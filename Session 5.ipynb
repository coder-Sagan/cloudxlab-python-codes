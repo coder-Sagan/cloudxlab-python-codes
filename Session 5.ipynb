{
 "cells": [
  {
   "cell_type": "code",
   "execution_count": 11,
   "metadata": {},
   "outputs": [],
   "source": [
    "import re"
   ]
  },
  {
   "cell_type": "code",
   "execution_count": 30,
   "metadata": {},
   "outputs": [
    {
     "name": "stdout",
     "output_type": "stream",
     "text": [
      "['2', '19', '42']\n"
     ]
    }
   ],
   "source": [
    "#Matching and extracting data\n",
    "x = 'My 2 favorite numbers are 19 and 42'\n",
    "y = re.findall('[0-9]+',x)\n",
    "print(y)"
   ]
  },
  {
   "cell_type": "code",
   "execution_count": null,
   "metadata": {},
   "outputs": [],
   "source": [
    "if re.match(\"a\",\"aa\"):\n",
    "    print('YES')\n",
    "else:\n",
    "    print('No')"
   ]
  },
  {
   "cell_type": "code",
   "execution_count": 3,
   "metadata": {},
   "outputs": [
    {
     "data": {
      "text/plain": [
       "[',', ':']"
      ]
     },
     "execution_count": 3,
     "metadata": {},
     "output_type": "execute_result"
    }
   ],
   "source": [
    "#. means any sinle charcter\n",
    "re.findall('t...','this is a aa and that is a aaa')\n",
    "\n",
    "#* - any number of previous characater\n",
    "re.findall('aa*','this is a aa and that is a aaa')\n",
    "re.findall('.*','this is a aa and that is a aaa')\n",
    "#aa* ->a,aa,aaa...\n",
    "\n",
    "# #+ -one or more character\n",
    "re.findall('a+','this is a aa and that is a aaa')\n",
    "re.findall('ab+','this is a aa and that is a aaa')\n",
    "\n",
    "#?-0 or 1 character\n",
    "re.findall('thi?','this is a             aa and that is a aaa')\n",
    "\n",
    "#To find a + in the sentencE or to escape special character\n",
    "re.findall('.\\\\+','this+ is a aa and that is a aaa')\n",
    "\n",
    "#Begging of line-^\n",
    "re.findall('^t....','this is a aa and that is a aaa')\n",
    "\n",
    "#End of line-$\n",
    "re.findall('......a$','this is a aa and that is a aaa')\n",
    "\n",
    "#To capture the white space-\\s\n",
    "re.findall('a +','this is a             aa and that is a aaa')\n",
    "re.findall('a\\s+','this is a             aa and that is a aaa')\n",
    "\n",
    "#Non white space -\\S\n",
    "re.findall('a\\S','this is a             aa and that is a aaa')\n",
    "\n",
    "#[] mathches character with the elements inside it to the outside\n",
    "re.findall('th[ai][st]','this is a             aa and that is a aaa')\n",
    "\n",
    "#To find vowels in a sentence\n",
    "re.findall('[aeiou]','this is a             aa and that is a aaa')\n",
    "\n",
    "#Will find other than whatever is inside the bracket\n",
    "re.findall('[aeiou][^aeiou]','this is a             aa and that is a aaa')\n",
    "\n",
    "#For setting range\n",
    "re.findall('[a-s]','this is a             aa and that is a aaa')\n",
    "re.findall('[A-Z]','this is a             Aaa and that is a aaa')\n",
    "re.findall('[0-9]+','My 2 favorite numbers are 19 and 42')\n",
    "\n",
    "#To match decimal numbers\n",
    "re.findall('[0-9]+\\\\.[0-9]+','My 2.x favorite numbers are 1912121.00995 and 42')\n",
    "\n",
    "#To find out anything that is not alpha-numeric\n",
    "re.findall('[^0-9a-zA-Z. ]','My 2.x favorite, numbers: are 1912121.00995 and 42')"
   ]
  },
  {
   "cell_type": "code",
   "execution_count": null,
   "metadata": {},
   "outputs": [],
   "source": [
    "#ml/python/mbox-short.txt\n",
    "#That is the mbox-short.txt file\n",
    "hand = open('ml/python/mbox-short.txt')\n",
    "for line in hand:\n",
    "    line = line.rstrip()\n",
    "    if line.find('From:') >= 0:\n",
    "        print(line)"
   ]
  },
  {
   "cell_type": "code",
   "execution_count": null,
   "metadata": {},
   "outputs": [],
   "source": [
    "#This is the same thing but with the re search\n",
    "## Using re.search() like find()\n",
    "hand = open('/cxldata/datasets/project/mbox-short.txt')\n",
    "for line in hand:\n",
    "    line = line.rstrip()\n",
    "    if re.search('From:', line) :\n",
    "        print(line)"
   ]
  },
  {
   "cell_type": "code",
   "execution_count": null,
   "metadata": {},
   "outputs": [],
   "source": [
    "#This is the same thing with a regular expression ^ which finds all lines which start with From:\n",
    "## Using re.search() like startswith()\n",
    "hand = open('/cxldata/datasets/project/mbox-short.txt')\n",
    "for line in hand:\n",
    "    line = line.rstrip()\n",
    "    if re.search('^From:', line) :\n",
    "        print(line)"
   ]
  },
  {
   "cell_type": "code",
   "execution_count": null,
   "metadata": {},
   "outputs": [],
   "source": [
    "#Same thing above without re library or regular expressions\n",
    "hand = open('/cxldata/datasets/project/mbox-short.txt')\n",
    "for line in hand:\n",
    "    line = line.rstrip()\n",
    "    if line.startswith('From:') :\n",
    "        print(line)"
   ]
  },
  {
   "cell_type": "code",
   "execution_count": 9,
   "metadata": {},
   "outputs": [
    {
     "name": "stdout",
     "output_type": "stream",
     "text": [
      "ENTER TEXT Hi world I rock\n",
      "4\n"
     ]
    }
   ],
   "source": [
    "#To find vowels in a sentence(Made my me)\n",
    "string=input('ENTER TEXT ')\n",
    "vowels=0\n",
    "for i in string:\n",
    "    if i in 'aeiouAEIOU':\n",
    "        vowels=vowels+1\n",
    "print(vowels)"
   ]
  },
  {
   "cell_type": "code",
   "execution_count": 58,
   "metadata": {},
   "outputs": [
    {
     "name": "stdout",
     "output_type": "stream",
     "text": [
      "['stephen.marquard@uct.uc.za']\n"
     ]
    }
   ],
   "source": [
    "x='From stephen.marquard@uct.uc.za Sat Jun 5 09:14:16 2008'\n",
    "y=re.findall('\\S+@\\S+',x)\n",
    "print(y)"
   ]
  },
  {
   "cell_type": "code",
   "execution_count": 16,
   "metadata": {},
   "outputs": [
    {
     "name": "stdout",
     "output_type": "stream",
     "text": [
      "['From: Using the :']\n"
     ]
    }
   ],
   "source": [
    "#Greedy mathching\n",
    "import re\n",
    "x = 'From: Using the : character'\n",
    "y = re.findall('^F.+:', x)\n",
    "#y = re.findall('^F[^ ]+:', x)\n",
    "print(y)"
   ]
  },
  {
   "cell_type": "code",
   "execution_count": 11,
   "metadata": {},
   "outputs": [
    {
     "name": "stdout",
     "output_type": "stream",
     "text": [
      "['From:']\n"
     ]
    }
   ],
   "source": [
    "#Non greedy matching\n",
    "x = 'From: Using the : character'\n",
    "y = re.findall('^F.+?:', x)\n",
    "print(y)"
   ]
  },
  {
   "cell_type": "code",
   "execution_count": 24,
   "metadata": {},
   "outputs": [
    {
     "name": "stdout",
     "output_type": "stream",
     "text": [
      "['sagankrishnagupta@gmail.com']\n"
     ]
    }
   ],
   "source": [
    "x=('sagankrishnagupta@gmail.com mahika@gmail.com manjul_gupta@gmail.com and many more ....')\n",
    "y=re.findall('^\\S+@\\S+',x)\n",
    "print(y)"
   ]
  },
  {
   "cell_type": "code",
   "execution_count": 28,
   "metadata": {},
   "outputs": [
    {
     "name": "stdout",
     "output_type": "stream",
     "text": [
      "   a  b  c\n",
      "0 [0, '1', 0]\n",
      "1 [0, 0, 0]\n",
      "2 [0, 0, 0]\n"
     ]
    }
   ],
   "source": [
    "game=[[0,0,0],\n",
    "      [0,0,0],\n",
    "      [0,0,0]]\n",
    "game[0][1]='1'\n",
    "print('   a  b  c')\n",
    "for count,row in enumerate(game):\n",
    "    print(count, row)"
   ]
  },
  {
   "cell_type": "code",
   "execution_count": 5,
   "metadata": {},
   "outputs": [
    {
     "name": "stdout",
     "output_type": "stream",
     "text": [
      "['uct.ac.za']\n"
     ]
    }
   ],
   "source": [
    "import re\n",
    "lin = 'From stephen.marquard@uct.ac.za Sat Jan 5 09:14:16 2008'\n",
    "y = re.findall('@([^ ]*)',lin)\n",
    "print(y)"
   ]
  },
  {
   "cell_type": "code",
   "execution_count": 6,
   "metadata": {},
   "outputs": [
    {
     "name": "stdout",
     "output_type": "stream",
     "text": [
      "['uct.ac.za']\n"
     ]
    }
   ],
   "source": [
    "import re\n",
    "lin = 'From stephen.marquard@uct.ac.za Sat Jan 5 09:14:16 2008'\n",
    "y = re.findall('^From .*@([^ ]*)',lin)\n",
    "print(y)"
   ]
  },
  {
   "cell_type": "code",
   "execution_count": 8,
   "metadata": {},
   "outputs": [
    {
     "name": "stdout",
     "output_type": "stream",
     "text": [
      "Maximum: 0.9907\n"
     ]
    }
   ],
   "source": [
    "import re\n",
    "hand = open('/cxldata/datasets/project/mbox-short.txt')\n",
    "numlist = list()\n",
    "for line in hand:\n",
    "    line = line.rstrip()\n",
    "    stuff = re.findall('^X-DSPAM-Confidence: ([0-9.]+)', line)\n",
    "    if len(stuff) != 1 : continue\n",
    "    num = float(stuff[0])\n",
    "    numlist.append(num)\n",
    "print('Maximum:', max(numlist))"
   ]
  },
  {
   "cell_type": "code",
   "execution_count": null,
   "metadata": {},
   "outputs": [],
   "source": []
  }
 ],
 "metadata": {
  "kernelspec": {
   "display_name": "Python 3",
   "language": "python",
   "name": "python3"
  },
  "language_info": {
   "codemirror_mode": {
    "name": "ipython",
    "version": 3
   },
   "file_extension": ".py",
   "mimetype": "text/x-python",
   "name": "python",
   "nbconvert_exporter": "python",
   "pygments_lexer": "ipython3",
   "version": "3.6.8"
  },
  "toc": {
   "base_numbering": 1,
   "nav_menu": {},
   "number_sections": true,
   "sideBar": true,
   "skip_h1_title": false,
   "title_cell": "Table of Contents",
   "title_sidebar": "Contents",
   "toc_cell": false,
   "toc_position": {},
   "toc_section_display": true,
   "toc_window_display": false
  }
 },
 "nbformat": 4,
 "nbformat_minor": 2
}
