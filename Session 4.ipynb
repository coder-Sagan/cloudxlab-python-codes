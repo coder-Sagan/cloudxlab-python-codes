{
 "cells": [
  {
   "cell_type": "code",
   "execution_count": 5,
   "metadata": {},
   "outputs": [
    {
     "name": "stdout",
     "output_type": "stream",
     "text": [
      "12\n"
     ]
    }
   ],
   "source": [
    "#To call any python program \n",
    "%run simple.py"
   ]
  },
  {
   "cell_type": "code",
   "execution_count": 6,
   "metadata": {},
   "outputs": [
    {
     "name": "stdout",
     "output_type": "stream",
     "text": [
      "a.txt\t\t\t\t     Session 2.ipynb\r\n",
      "cloudxlab_jupyter_notebooks\t     Session 3.ipynb\r\n",
      "My First file session 0.ipynb\t     Session 4.ipynb\r\n",
      "Scope Code given in session 1.ipynb  simple.py\r\n",
      "Session 1.ipynb\r\n"
     ]
    }
   ],
   "source": [
    "#To run any other commad like unix\n",
    "!ls"
   ]
  },
  {
   "cell_type": "code",
   "execution_count": 7,
   "metadata": {},
   "outputs": [
    {
     "name": "stdout",
     "output_type": "stream",
     "text": [
      "12\r\n"
     ]
    }
   ],
   "source": [
    "!python simple.py"
   ]
  },
  {
   "cell_type": "code",
   "execution_count": 9,
   "metadata": {},
   "outputs": [
    {
     "name": "stdout",
     "output_type": "stream",
     "text": [
      "Who are you? Sagan\n",
      "Welcome  Sagan\n"
     ]
    }
   ],
   "source": [
    "nam = input('Who are you?')\n",
    "print ('Welcome', nam)"
   ]
  },
  {
   "cell_type": "code",
   "execution_count": 10,
   "metadata": {},
   "outputs": [
    {
     "name": "stdout",
     "output_type": "stream",
     "text": [
      "Europe floor?2\n",
      "US floor 3\n"
     ]
    }
   ],
   "source": [
    "inp = input('Europe floor?')\n",
    "usf = int(inp) + 1\n",
    "print ('US floor', usf)"
   ]
  },
  {
   "cell_type": "code",
   "execution_count": 12,
   "metadata": {},
   "outputs": [
    {
     "name": "stdout",
     "output_type": "stream",
     "text": [
      "Hours:12\n",
      "Pay:1\n",
      "12.0\n"
     ]
    }
   ],
   "source": [
    "try:\n",
    "    pay = float(input(\"Hours:\")) * float(input(\"Pay:\"))\n",
    "    print(pay)\n",
    "except:\n",
    "    print(\"Wrong Input\")"
   ]
  },
  {
   "cell_type": "code",
   "execution_count": 17,
   "metadata": {},
   "outputs": [
    {
     "name": "stdout",
     "output_type": "stream",
     "text": [
      "8\n"
     ]
    }
   ],
   "source": [
    "def addtwo(a, b):\n",
    "    added = a + b\n",
    "    return added\n",
    "\n",
    "x = addtwo(3, 5)\n",
    "print (x)"
   ]
  },
  {
   "cell_type": "code",
   "execution_count": 2,
   "metadata": {},
   "outputs": [
    {
     "name": "stdout",
     "output_type": "stream",
     "text": [
      "[4, 3]\n",
      "[13, 4]\n"
     ]
    }
   ],
   "source": [
    "\n",
    "def ordernums(a, b):\n",
    "    if a > b:\n",
    "        return [a,b]\n",
    "    else:\n",
    "        return [b,a]\n",
    "print(ordernums(3,4))\n",
    "print(ordernums(13,4))"
   ]
  },
  {
   "cell_type": "code",
   "execution_count": 5,
   "metadata": {},
   "outputs": [
    {
     "data": {
      "text/plain": [
       "9"
      ]
     },
     "execution_count": 5,
     "metadata": {},
     "output_type": "execute_result"
    }
   ],
   "source": [
    "#To get square \n",
    "def sq(x):return x*x\n",
    "sq(3)"
   ]
  },
  {
   "cell_type": "code",
   "execution_count": 7,
   "metadata": {},
   "outputs": [
    {
     "data": {
      "text/plain": [
       "27"
      ]
     },
     "execution_count": 7,
     "metadata": {},
     "output_type": "execute_result"
    }
   ],
   "source": [
    "#To get cube,written bymyself\n",
    "def cu(x):return x*x*x\n",
    "cu(3)"
   ]
  },
  {
   "cell_type": "code",
   "execution_count": 7,
   "metadata": {},
   "outputs": [
    {
     "name": "stdout",
     "output_type": "stream",
     "text": [
      "[1, 4, 9]\n"
     ]
    }
   ],
   "source": [
    "def mymap(a, f):\n",
    "    retval = []\n",
    "    for i in a:\n",
    "        v = f(i)\n",
    "        retval.append(v)\n",
    "    return retval\n",
    "\n",
    "print(mymap([1,2,3], sq))\n",
    "#print(mymap([1,2,3],cu))\n",
    "# mymap([1,2,3],print)\n",
    "#mymap([1,2,3,4],lambda x:x*2)"
   ]
  },
  {
   "cell_type": "code",
   "execution_count": 34,
   "metadata": {},
   "outputs": [
    {
     "data": {
      "text/plain": [
       "9"
      ]
     },
     "execution_count": 34,
     "metadata": {},
     "output_type": "execute_result"
    }
   ],
   "source": [
    "sum=lambda x,y:x+y\n",
    "sum(4,5)"
   ]
  },
  {
   "cell_type": "code",
   "execution_count": 38,
   "metadata": {},
   "outputs": [
    {
     "name": "stdout",
     "output_type": "stream",
     "text": [
      "Multiplier:1\n",
      "Multiplier:2\n",
      "Multiplier:3\n",
      "Multiplier:4\n"
     ]
    },
    {
     "data": {
      "text/plain": [
       "[1, 4, 9, 16]"
      ]
     },
     "execution_count": 38,
     "metadata": {},
     "output_type": "execute_result"
    }
   ],
   "source": [
    "mymap([1,2,3,4],lambda x:x*int(input('Multiplier:')))"
   ]
  },
  {
   "cell_type": "code",
   "execution_count": 35,
   "metadata": {},
   "outputs": [
    {
     "name": "stdout",
     "output_type": "stream",
     "text": [
      "5\n",
      "4\n",
      "3\n",
      "2\n",
      "1\n",
      "0\n",
      "Blastoff!\n"
     ]
    }
   ],
   "source": [
    " n = 5\n",
    "while n > 0 :\n",
    "    print (n)\n",
    "    n = n - 1\n",
    "print (n)\n",
    "print ('Blastoff!')"
   ]
  },
  {
   "cell_type": "code",
   "execution_count": 1,
   "metadata": {},
   "outputs": [
    {
     "name": "stdout",
     "output_type": "stream",
     "text": [
      "> sagan\n",
      "sagan\n",
      "> done\n",
      "Done!\n"
     ]
    }
   ],
   "source": [
    "while True:\n",
    "    line = input('> ')\n",
    "    if line == 'done' :\n",
    "        break\n",
    "    print (line)\n",
    "print ('Done!')"
   ]
  },
  {
   "cell_type": "code",
   "execution_count": 11,
   "metadata": {},
   "outputs": [],
   "source": [
    "import math"
   ]
  },
  {
   "cell_type": "code",
   "execution_count": 1,
   "metadata": {},
   "outputs": [
    {
     "name": "stdout",
     "output_type": "stream",
     "text": [
      "> SAGAN\n",
      "... \n",
      "SAGAN\n",
      "> SFAAN\n",
      "... SAG\n",
      "... \n",
      "SFAAN\n",
      "> DONE\n",
      "... done\n",
      "... \n",
      "DONE\n",
      "> done\n",
      "Done!\n"
     ]
    }
   ],
   "source": [
    "while True:\n",
    "    line = input('> ')\n",
    "    if line == 'done' :\n",
    "        break\n",
    "    while True:\n",
    "        name = input(\"... \")\n",
    "        if name == \"\":\n",
    "            break\n",
    "    print (line)\n",
    "print ('Done!')"
   ]
  },
  {
   "cell_type": "code",
   "execution_count": 3,
   "metadata": {},
   "outputs": [
    {
     "name": "stdout",
     "output_type": "stream",
     "text": [
      "> saganb\n",
      "saganb\n",
      "> mahika\n",
      "mahika\n",
      "> sudha\n",
      "sudha\n",
      "> manjul\n",
      "manjul\n",
      "> #\n",
      "> done\n",
      "Done!\n"
     ]
    }
   ],
   "source": [
    "while True:\n",
    "    line = input('> ')\n",
    "    if line[0] == '#' : \n",
    "        continue\n",
    "    if line == 'done' :\n",
    "        break\n",
    "    print (line)\n",
    "print ('Done!')"
   ]
  },
  {
   "cell_type": "code",
   "execution_count": 1,
   "metadata": {},
   "outputs": [
    {
     "name": "stdout",
     "output_type": "stream",
     "text": [
      "apple\n",
      "<class 'str'>\n",
      "banana\n",
      "<class 'str'>\n",
      "eggs\n",
      "<class 'str'>\n",
      "3\n",
      "<class 'int'>\n",
      "4\n",
      "<class 'int'>\n",
      "6.0\n",
      "<class 'float'>\n"
     ]
    }
   ],
   "source": [
    "for item in [\"apple\", \"banana\", \"eggs\", 3, 4, 6.0]:\n",
    "    print(item)\n",
    "    print(type(item))"
   ]
  },
  {
   "cell_type": "code",
   "execution_count": 1,
   "metadata": {},
   "outputs": [
    {
     "name": "stdout",
     "output_type": "stream",
     "text": [
      "['first', 'second', 'third']\n"
     ]
    }
   ],
   "source": [
    "l = []\n",
    "l.append(\"first\")\n",
    "l.append(\"second\")\n",
    "l.append(\"third\")\n",
    "print(l)"
   ]
  },
  {
   "cell_type": "code",
   "execution_count": 2,
   "metadata": {},
   "outputs": [
    {
     "name": "stdout",
     "output_type": "stream",
     "text": [
      "third\n"
     ]
    }
   ],
   "source": [
    "print(l.pop())"
   ]
  },
  {
   "cell_type": "code",
   "execution_count": 3,
   "metadata": {},
   "outputs": [
    {
     "name": "stdout",
     "output_type": "stream",
     "text": [
      "range(0, 4)\n"
     ]
    }
   ],
   "source": [
    "print(range(4))"
   ]
  },
  {
   "cell_type": "code",
   "execution_count": 4,
   "metadata": {},
   "outputs": [
    {
     "name": "stdout",
     "output_type": "stream",
     "text": [
      "[1, 2, 3, 4, 5, 6]\n",
      "[1, 2, 3]\n",
      "[4, 5, 6]\n"
     ]
    }
   ],
   "source": [
    "a = [1, 2, 3]\n",
    "b = [4, 5, 6]\n",
    "c = a + b\n",
    "print (c)\n",
    "print (a)\n",
    "print(b)"
   ]
  },
  {
   "cell_type": "code",
   "execution_count": 10,
   "metadata": {},
   "outputs": [
    {
     "name": "stdout",
     "output_type": "stream",
     "text": [
      "[41, 12]\n",
      "[9, 41, 12, 3]\n",
      "[3, 74, 15]\n",
      "[9, 41, 12, 3, 74, 15]\n"
     ]
    }
   ],
   "source": [
    "t = [9, 41, 12, 3, 74, 15]\n",
    "print(t[1:3])\n",
    "print(t[:4])\n",
    "print(t[3:])\n",
    "print(t[:])"
   ]
  },
  {
   "cell_type": "code",
   "execution_count": 14,
   "metadata": {},
   "outputs": [
    {
     "data": {
      "text/plain": [
       "list"
      ]
     },
     "execution_count": 14,
     "metadata": {},
     "output_type": "execute_result"
    }
   ],
   "source": [
    "x=list()\n",
    "type(x)"
   ]
  },
  {
   "cell_type": "code",
   "execution_count": 15,
   "metadata": {},
   "outputs": [
    {
     "name": "stdout",
     "output_type": "stream",
     "text": [
      "6\n",
      "74\n",
      "3\n",
      "154\n",
      "25.666666666666668\n"
     ]
    }
   ],
   "source": [
    "nums = [3, 41, 12, 9, 74, 15]\n",
    "print (len(nums))\n",
    "print (max(nums))\n",
    "print (min(nums))\n",
    "print (sum(nums))\n",
    "print (sum(nums)/len(nums))"
   ]
  },
  {
   "cell_type": "code",
   "execution_count": 28,
   "metadata": {},
   "outputs": [
    {
     "name": "stdout",
     "output_type": "stream",
     "text": [
      "Enter a number: 1\n",
      "Enter a number: 2\n",
      "Enter a number: done\n",
      "Average: 1.5\n"
     ]
    }
   ],
   "source": [
    "#finding average-1\n",
    "total = 0\n",
    "count = 0\n",
    "while True :\n",
    "    inp = input('Enter a number: ')\n",
    "    if inp == 'done' : break\n",
    "    value = float(inp)\n",
    "    total = total + value     \n",
    "    count = count + 1\n",
    "\n",
    "average = total / count\n",
    "print ('Average:', average)"
   ]
  },
  {
   "cell_type": "code",
   "execution_count": 31,
   "metadata": {},
   "outputs": [
    {
     "name": "stdout",
     "output_type": "stream",
     "text": [
      "Enter a number: 1\n",
      "Enter a number: 2\n",
      "Enter a number: 3\n",
      "Enter a number: 4\n",
      "Enter a number: 5\n",
      "Enter a number: done\n",
      "Average: 3.0\n"
     ]
    }
   ],
   "source": [
    "#finding average-2\n",
    "numlist = list()\n",
    "while True :\n",
    "    inp = input('Enter a number: ')\n",
    "    if inp == 'done' : break\n",
    "    value = float(inp)\n",
    "    numlist.append(value)\n",
    "\n",
    "average = sum(numlist) / len(numlist)\n",
    "print ('Average:', average)"
   ]
  },
  {
   "cell_type": "code",
   "execution_count": 39,
   "metadata": {},
   "outputs": [
    {
     "name": "stdout",
     "output_type": "stream",
     "text": [
      "['A', 'lot', 'of', 'spaces']\n"
     ]
    }
   ],
   "source": [
    "line = 'A lot               of spaces'\n",
    "etc = line.split()\n",
    "print (etc)"
   ]
  },
  {
   "cell_type": "code",
   "execution_count": 40,
   "metadata": {},
   "outputs": [
    {
     "name": "stdout",
     "output_type": "stream",
     "text": [
      "['first;second;third']\n",
      "1\n",
      "['first', 'second', 'third']\n",
      "3\n"
     ]
    }
   ],
   "source": [
    "line = 'first;second;third'\n",
    "thing = line.split()\n",
    "print (thing)\n",
    "print (len(thing))\n",
    "thing = line.split(';')\n",
    "print (thing)\n",
    "print (len(thing))"
   ]
  },
  {
   "cell_type": "code",
   "execution_count": 7,
   "metadata": {},
   "outputs": [
    {
     "name": "stdout",
     "output_type": "stream",
     "text": [
      "{'money': 12, 'candy': 3, 'tissues': 75}\n",
      "3\n",
      "{'money': 12, 'candy': 5, 'tissues': 75}\n"
     ]
    }
   ],
   "source": [
    "purse = dict()\n",
    "purse['money'] = 12\n",
    "purse['candy'] = 3\n",
    "purse['tissues'] = 75\n",
    "print(purse)\n",
    "print(purse['candy'])\n",
    "purse['candy'] = purse['candy'] + 2\n",
    "print(purse)"
   ]
  },
  {
   "cell_type": "code",
   "execution_count": 12,
   "metadata": {},
   "outputs": [
    {
     "name": "stdout",
     "output_type": "stream",
     "text": [
      "[21, 183]\n",
      "[23, 183]\n"
     ]
    }
   ],
   "source": [
    "lst = list()\n",
    "lst.append(21)\n",
    "lst.append(183)\n",
    "print(lst)\n",
    "lst[0] = 23\n",
    "print(lst)"
   ]
  },
  {
   "cell_type": "code",
   "execution_count": 13,
   "metadata": {},
   "outputs": [
    {
     "name": "stdout",
     "output_type": "stream",
     "text": [
      "{'age': 21, 'course': 182}\n",
      "{'age': 23, 'course': 182}\n"
     ]
    }
   ],
   "source": [
    "ddd = dict()\n",
    "ddd['age'] = 21\n",
    "ddd['course'] = 182\n",
    "print(ddd)\n",
    "ddd['age'] = 23\n",
    "print(ddd)"
   ]
  },
  {
   "cell_type": "code",
   "execution_count": 21,
   "metadata": {},
   "outputs": [
    {
     "name": "stdout",
     "output_type": "stream",
     "text": [
      "{'chuck': 1, 'fred': 42, 'jan': 100}\n",
      "1\n",
      "{}\n",
      "dict_values([1, 42, 100])\n",
      "dict_keys(['chuck', 'fred', 'jan'])\n"
     ]
    }
   ],
   "source": [
    "\n",
    "jjj = { 'chuck' : 1 , 'fred' : 42, 'jan': 100}\n",
    "print(jjj)\n",
    "print(jjj['chuck'])\n",
    "\n",
    "ooo = { }\n",
    "print(ooo)\n",
    "\n",
    "print(jjj.values())\n",
    "print(jjj.keys())"
   ]
  },
  {
   "cell_type": "code",
   "execution_count": 17,
   "metadata": {},
   "outputs": [
    {
     "name": "stdout",
     "output_type": "stream",
     "text": [
      "{'csev': 1, 'cwen': 1}\n",
      "{'csev': 1, 'cwen': 2}\n"
     ]
    }
   ],
   "source": [
    "ccc = dict()\n",
    "ccc['csev'] = 1\n",
    "ccc['cwen'] = 1\n",
    "print(ccc)\n",
    "ccc['cwen'] = ccc['cwen'] + 1\n",
    "print(ccc)"
   ]
  },
  {
   "cell_type": "code",
   "execution_count": 41,
   "metadata": {},
   "outputs": [
    {
     "name": "stdout",
     "output_type": "stream",
     "text": [
      "{'csev': 3, 'cwen': 2, 'zqian': 1}\n"
     ]
    }
   ],
   "source": [
    "counts = dict()\n",
    "names = ['csev', 'cwen', 'csev', 'zqian', 'cwen', 'csev']\n",
    "for name in names :\n",
    "    if name not in counts: \n",
    "       counts[name] = 1\n",
    "    else:\n",
    "        counts[name] = counts[name] + 1\n",
    "print(counts)"
   ]
  },
  {
   "cell_type": "code",
   "execution_count": 27,
   "metadata": {},
   "outputs": [
    {
     "name": "stdout",
     "output_type": "stream",
     "text": [
      "2\n"
     ]
    }
   ],
   "source": [
    "if name in counts:\n",
    "    x = counts[name]\n",
    "else :\n",
    "    x = 0\n",
    "print(x)"
   ]
  },
  {
   "cell_type": "code",
   "execution_count": 32,
   "metadata": {},
   "outputs": [
    {
     "name": "stdout",
     "output_type": "stream",
     "text": [
      "2\n"
     ]
    }
   ],
   "source": [
    "x = counts.get(name, 0)\n",
    "print(x)"
   ]
  },
  {
   "cell_type": "code",
   "execution_count": 42,
   "metadata": {},
   "outputs": [
    {
     "name": "stdout",
     "output_type": "stream",
     "text": [
      "{'csev': 2, 'cwen': 2, 'zqian': 1}\n"
     ]
    }
   ],
   "source": [
    "counts = dict()\n",
    "names = ['csev', 'cwen', 'csev', 'zqian', 'cwen']\n",
    "for name in names :\n",
    "    counts[name] = counts.get(name, 0)+1 \n",
    "print(counts)"
   ]
  },
  {
   "cell_type": "code",
   "execution_count": 37,
   "metadata": {},
   "outputs": [
    {
     "name": "stdout",
     "output_type": "stream",
     "text": [
      "Enter a line of text:My name is Sgan\n",
      "Words: ['My', 'name', 'is', 'Sgan']\n",
      "Counting...\n",
      "Counts {'My': 1, 'name': 1, 'is': 1, 'Sgan': 1}\n"
     ]
    }
   ],
   "source": [
    "counts = dict()\n",
    "line = input('Enter a line of text:')\n",
    "words = line.split()\n",
    "\n",
    "print('Words:', words)\n",
    "print('Counting...')\n",
    "\n",
    "for word in words:\n",
    "    counts[word] = counts.get(word,0) + 1\n",
    "print('Counts', counts)"
   ]
  },
  {
   "cell_type": "code",
   "execution_count": 38,
   "metadata": {},
   "outputs": [
    {
     "name": "stdout",
     "output_type": "stream",
     "text": [
      "chuck 1\n",
      "fred 42\n",
      "jan 100\n"
     ]
    }
   ],
   "source": [
    "counts = { 'chuck' : 1 , 'fred' : 42, 'jan': 100}\n",
    "for key in counts:\n",
    "    print(key, counts[key])"
   ]
  },
  {
   "cell_type": "code",
   "execution_count": 39,
   "metadata": {},
   "outputs": [
    {
     "name": "stdout",
     "output_type": "stream",
     "text": [
      "dict_keys(['chuck', 'fred', 'jan'])\n",
      "dict_values([1, 42, 100])\n",
      "dict_items([('chuck', 1), ('fred', 42), ('jan', 100)])\n"
     ]
    }
   ],
   "source": [
    "print(jjj.keys())\n",
    "print(jjj.values())\n",
    "print(jjj.items())"
   ]
  },
  {
   "cell_type": "code",
   "execution_count": 40,
   "metadata": {},
   "outputs": [
    {
     "name": "stdout",
     "output_type": "stream",
     "text": [
      "chuck 1\n",
      "fred 42\n",
      "jan 100\n"
     ]
    }
   ],
   "source": [
    "jj = { 'chuck' : 1 , 'fred' : 42, 'jan': 100}\n",
    "for name,val in jjj.items():\n",
    "    print(name, val)"
   ]
  },
  {
   "cell_type": "code",
   "execution_count": 21,
   "metadata": {},
   "outputs": [
    {
     "name": "stdout",
     "output_type": "stream",
     "text": [
      "Enter file: a.txt\n",
      "the 103\n"
     ]
    }
   ],
   "source": [
    "name = input('Enter file: ')\n",
    "handle = open(name)\n",
    "text = handle.read()\n",
    "words = text.split()\n",
    "\n",
    "counts = dict()\n",
    "for word in words:\n",
    "   counts[word] = counts.get(word,0) + 1\n",
    "\n",
    "bigcount = None\n",
    "bigword = None\n",
    "for word,count in counts.items():\n",
    "    if bigcount is None or count > bigcount:\n",
    "        bigword = word\n",
    "        bigcount = count\n",
    "print(bigword, bigcount)"
   ]
  },
  {
   "cell_type": "code",
   "execution_count": 45,
   "metadata": {},
   "outputs": [
    {
     "name": "stdout",
     "output_type": "stream",
     "text": [
      "Bingo\n"
     ]
    }
   ],
   "source": [
    "mybag = {}\n",
    "mybag['nbooks'] = 1\n",
    "mybag['pen'] = 5\n",
    "mybag['laptop'] = True\n",
    "mybag['nbooks']\n",
    "if 'laptop' in mybag: print(\"Bingo\")\n",
    "else: \n",
    "    print(\"Sorry\")"
   ]
  },
  {
   "cell_type": "code",
   "execution_count": 24,
   "metadata": {},
   "outputs": [
    {
     "name": "stdout",
     "output_type": "stream",
     "text": [
      "Joseph\n",
      "(1, 9, 2)\n",
      "9\n",
      "3\n"
     ]
    }
   ],
   "source": [
    "# Tuples are like lists\n",
    "x = ('Glenn', 'Sally', 'Joseph')\n",
    "print(x[2])\n",
    "y = ( 1, 9, 2 )\n",
    "print(y)\n",
    "print(max(y))\n",
    "print(len(y))"
   ]
  },
  {
   "cell_type": "code",
   "execution_count": 25,
   "metadata": {},
   "outputs": [
    {
     "name": "stdout",
     "output_type": "stream",
     "text": [
      "1\n",
      "9\n",
      "2\n"
     ]
    }
   ],
   "source": [
    "for iter in y:\n",
    "    print(iter)"
   ]
  },
  {
   "cell_type": "code",
   "execution_count": 29,
   "metadata": {},
   "outputs": [
    {
     "ename": "TypeError",
     "evalue": "'tuple' object does not support item assignment",
     "output_type": "error",
     "traceback": [
      "\u001b[0;31m---------------------------------------------------------------------------\u001b[0m",
      "\u001b[0;31mTypeError\u001b[0m                                 Traceback (most recent call last)",
      "\u001b[0;32m<ipython-input-29-9fff87775786>\u001b[0m in \u001b[0;36m<module>\u001b[0;34m\u001b[0m\n\u001b[1;32m      1\u001b[0m \u001b[0mz\u001b[0m \u001b[0;34m=\u001b[0m \u001b[0;34m(\u001b[0m\u001b[0;36m5\u001b[0m\u001b[0;34m,\u001b[0m \u001b[0;36m4\u001b[0m\u001b[0;34m,\u001b[0m \u001b[0;36m3\u001b[0m\u001b[0;34m)\u001b[0m\u001b[0;34m\u001b[0m\u001b[0;34m\u001b[0m\u001b[0m\n\u001b[0;32m----> 2\u001b[0;31m \u001b[0mz\u001b[0m\u001b[0;34m[\u001b[0m\u001b[0;36m2\u001b[0m\u001b[0;34m]\u001b[0m \u001b[0;34m=\u001b[0m \u001b[0;36m0\u001b[0m\u001b[0;34m\u001b[0m\u001b[0;34m\u001b[0m\u001b[0m\n\u001b[0m",
      "\u001b[0;31mTypeError\u001b[0m: 'tuple' object does not support item assignment"
     ]
    }
   ],
   "source": [
    "z = (5, 4, 3)\n",
    "z[2] = 0"
   ]
  },
  {
   "cell_type": "code",
   "execution_count": 30,
   "metadata": {},
   "outputs": [
    {
     "name": "stdout",
     "output_type": "stream",
     "text": [
      "fred\n",
      "4\n",
      "99\n"
     ]
    }
   ],
   "source": [
    "(x, y) = (4, 'fred')\n",
    "print(y)\n",
    "print(x)\n",
    "\n",
    "(a, b) = (99, 98)\n",
    "print(a)"
   ]
  },
  {
   "cell_type": "code",
   "execution_count": 31,
   "metadata": {},
   "outputs": [
    {
     "name": "stdout",
     "output_type": "stream",
     "text": [
      "1\n",
      "2\n",
      "3\n"
     ]
    }
   ],
   "source": [
    "def myf():\n",
    "    return (1,2,3)\n",
    "\n",
    "(x, y, z) = myf()\n",
    "[x, y, z] = (1,2,3)\n",
    "print(x)\n",
    "print(y)\n",
    "print(z)"
   ]
  },
  {
   "cell_type": "code",
   "execution_count": 32,
   "metadata": {},
   "outputs": [
    {
     "name": "stdout",
     "output_type": "stream",
     "text": [
      "[1, 2]\n"
     ]
    }
   ],
   "source": [
    "def swap(l):\n",
    "    if l[0] > l[1]:\n",
    "        tmp = l[0]\n",
    "        l[0] = l[1]\n",
    "        l[1] = tmp\n",
    "\n",
    "a = [2, 1]\n",
    "swap(a)\n",
    "print(a)"
   ]
  },
  {
   "cell_type": "code",
   "execution_count": 37,
   "metadata": {},
   "outputs": [
    {
     "name": "stdout",
     "output_type": "stream",
     "text": [
      "2 1 5 4\n"
     ]
    }
   ],
   "source": [
    "def order(x,y):\n",
    "    if x>y:\n",
    "        return (x,y)\n",
    "    return (y,x)\n",
    "(a, b) = order(1, 2)\n",
    "(x, y) = order(4, 5)\n",
    "print(a, b, x, y)"
   ]
  },
  {
   "cell_type": "code",
   "execution_count": 1,
   "metadata": {},
   "outputs": [
    {
     "name": "stdout",
     "output_type": "stream",
     "text": [
      "csev 2\n",
      "cwen 4\n"
     ]
    }
   ],
   "source": [
    "d = dict()\n",
    "d['csev'] = 2\n",
    "d['cwen'] = 4\n",
    "for (k,v) in d.items(): \n",
    "    print(k, v)"
   ]
  },
  {
   "cell_type": "code",
   "execution_count": 6,
   "metadata": {},
   "outputs": [
    {
     "data": {
      "text/plain": [
       "True"
      ]
     },
     "execution_count": 6,
     "metadata": {},
     "output_type": "execute_result"
    }
   ],
   "source": [
    "(1,2,3)<(4,1)"
   ]
  },
  {
   "cell_type": "code",
   "execution_count": 9,
   "metadata": {},
   "outputs": [
    {
     "name": "stdout",
     "output_type": "stream",
     "text": [
      "dict_items([('csev', 2), ('cwen', 4)])\n"
     ]
    }
   ],
   "source": [
    "tups = d.items()\n",
    "print(tups)"
   ]
  },
  {
   "cell_type": "code",
   "execution_count": 10,
   "metadata": {},
   "outputs": [
    {
     "data": {
      "text/plain": [
       "True"
      ]
     },
     "execution_count": 10,
     "metadata": {},
     "output_type": "execute_result"
    }
   ],
   "source": [
    "( 'Jones', 'Sally' ) < ('Jones', 'Sam')"
   ]
  },
  {
   "cell_type": "code",
   "execution_count": 11,
   "metadata": {},
   "outputs": [
    {
     "data": {
      "text/plain": [
       "True"
      ]
     },
     "execution_count": 11,
     "metadata": {},
     "output_type": "execute_result"
    }
   ],
   "source": [
    "( 'Jones', 'Sally') > ('Adams', 'Sam')"
   ]
  },
  {
   "cell_type": "code",
   "execution_count": 12,
   "metadata": {},
   "outputs": [
    {
     "data": {
      "text/plain": [
       "dict_items([('a', 10), ('b', 1), ('c', 22)])"
      ]
     },
     "execution_count": 12,
     "metadata": {},
     "output_type": "execute_result"
    }
   ],
   "source": [
    "d = {'a':10, 'b':1, 'c':22}\n",
    "d.items()"
   ]
  },
  {
   "cell_type": "code",
   "execution_count": 13,
   "metadata": {},
   "outputs": [
    {
     "data": {
      "text/plain": [
       "[('a', 10), ('b', 1), ('c', 22)]"
      ]
     },
     "execution_count": 13,
     "metadata": {},
     "output_type": "execute_result"
    }
   ],
   "source": [
    "t = sorted(d.items())\n",
    "t"
   ]
  },
  {
   "cell_type": "code",
   "execution_count": 14,
   "metadata": {},
   "outputs": [
    {
     "name": "stdout",
     "output_type": "stream",
     "text": [
      "a 10\n",
      "b 1\n",
      "c 22\n"
     ]
    }
   ],
   "source": [
    "for k, v in sorted(d.items()):\n",
    "    print(k,v)"
   ]
  },
  {
   "cell_type": "code",
   "execution_count": 17,
   "metadata": {},
   "outputs": [
    {
     "name": "stdout",
     "output_type": "stream",
     "text": [
      "[(10, 'a'), (1, 'b'), (22, 'c')]\n",
      "[(22, 'c'), (10, 'a'), (1, 'b')]\n"
     ]
    }
   ],
   "source": [
    "c = {'a':10, 'b':1, 'c':22}\n",
    "tmp=list()\n",
    "for k, v in c.items() :\n",
    "    tmp.append( (v,k) )\n",
    "print(tmp)\n",
    "tmp.sort(reverse=True)\n",
    "print(tmp)"
   ]
  },
  {
   "cell_type": "code",
   "execution_count": 20,
   "metadata": {},
   "outputs": [
    {
     "name": "stdout",
     "output_type": "stream",
     "text": [
      "[4, 6, 9, 12, 14]\n"
     ]
    }
   ],
   "source": [
    "a=[1,2,4,6,7]\n",
    "b=[3,4,5,6,7]\n",
    "c=[]\n",
    "for i in range(0,len(a)):\n",
    "    c.append(a[i]+b[i])\n",
    "print(c)"
   ]
  },
  {
   "cell_type": "code",
   "execution_count": 36,
   "metadata": {},
   "outputs": [
    {
     "name": "stdout",
     "output_type": "stream",
     "text": [
      "the 103\n",
      "a 60\n",
      "of 47\n",
      "and 43\n",
      "to 38\n",
      "was 29\n",
      "her 24\n",
      "with 20\n",
      "in 20\n",
      "had 20\n"
     ]
    }
   ],
   "source": [
    "fhand = open('a.txt')\n",
    "counts = dict()\n",
    "for line in fhand:\n",
    "    words = line.split()\n",
    "    for word in words:\n",
    "        counts[word] = counts.get(word, 0 )+1\n",
    "lst = list()\n",
    "for key, val in counts.items():\n",
    "    lst.append( (val, key) )\n",
    "\n",
    "lst.sort(reverse=True)\n",
    "\n",
    "for val, key in lst[:10] :\n",
    "    print(key, val)\n"
   ]
  },
  {
   "cell_type": "code",
   "execution_count": null,
   "metadata": {},
   "outputs": [],
   "source": []
  }
 ],
 "metadata": {
  "kernelspec": {
   "display_name": "Python 3",
   "language": "python",
   "name": "python3"
  },
  "language_info": {
   "codemirror_mode": {
    "name": "ipython",
    "version": 3
   },
   "file_extension": ".py",
   "mimetype": "text/x-python",
   "name": "python",
   "nbconvert_exporter": "python",
   "pygments_lexer": "ipython3",
   "version": "3.6.8"
  },
  "toc": {
   "base_numbering": 1,
   "nav_menu": {},
   "number_sections": true,
   "sideBar": true,
   "skip_h1_title": false,
   "title_cell": "Table of Contents",
   "title_sidebar": "Contents",
   "toc_cell": false,
   "toc_position": {},
   "toc_section_display": true,
   "toc_window_display": false
  }
 },
 "nbformat": 4,
 "nbformat_minor": 2
}
