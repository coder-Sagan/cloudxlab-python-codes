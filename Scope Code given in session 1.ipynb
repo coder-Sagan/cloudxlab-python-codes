{
 "cells": [
  {
   "cell_type": "code",
   "execution_count": 9,
   "metadata": {},
   "outputs": [
    {
     "name": "stdout",
     "output_type": "stream",
     "text": [
      "Enter file:a.txt\n"
     ]
    }
   ],
   "source": [
    "name=input('Enter file:')\n",
    "\n",
    "handle = open(name, 'r')\n",
    "text = handle.read()\n",
    "words = text.split()"
   ]
  },
  {
   "cell_type": "code",
   "execution_count": 10,
   "metadata": {},
   "outputs": [
    {
     "data": {
      "text/plain": [
       "['hi',\n",
       " 'my',\n",
       " 'name',\n",
       " 'is',\n",
       " 'sagan',\n",
       " '.I',\n",
       " 'rock',\n",
       " '.Thats',\n",
       " 'it.I',\n",
       " 'want',\n",
       " 'to',\n",
       " 'be',\n",
       " 'and',\n",
       " 'astronaut',\n",
       " 'and',\n",
       " 'become',\n",
       " 'a',\n",
       " 'famous',\n",
       " 'person.Thats',\n",
       " 'it',\n",
       " 'for',\n",
       " 'the',\n",
       " 'day',\n",
       " 'this',\n",
       " 'file',\n",
       " 'is',\n",
       " 'made',\n",
       " 'to',\n",
       " 'experiment',\n",
       " 'wit',\n",
       " 'the',\n",
       " 'scope',\n",
       " 'code',\n",
       " 'given',\n",
       " 'in',\n",
       " 'session',\n",
       " '1.']"
      ]
     },
     "execution_count": 10,
     "metadata": {},
     "output_type": "execute_result"
    }
   ],
   "source": [
    "words\n"
   ]
  },
  {
   "cell_type": "code",
   "execution_count": 12,
   "metadata": {},
   "outputs": [
    {
     "name": "stdout",
     "output_type": "stream",
     "text": [
      "is\t2\n"
     ]
    }
   ],
   "source": [
    "counts = dict()\n",
    "for word in words:\n",
    "    counts[word] = counts.get(word,0) + 1\n",
    "\n",
    "# Find the most common word\n",
    "bigcount = None\n",
    "bigword = None\n",
    "for word,count in counts.items():\n",
    "    if bigcount is None or count > bigcount:\n",
    "        bigword = word\n",
    "        bigcount = count\n",
    "\n",
    "# All done\n",
    "print (bigword +\"\\t\" + str(bigcount))"
   ]
  },
  {
   "cell_type": "code",
   "execution_count": null,
   "metadata": {},
   "outputs": [],
   "source": []
  }
 ],
 "metadata": {
  "kernelspec": {
   "display_name": "Python 3",
   "language": "python",
   "name": "python3"
  },
  "language_info": {
   "codemirror_mode": {
    "name": "ipython",
    "version": 3
   },
   "file_extension": ".py",
   "mimetype": "text/x-python",
   "name": "python",
   "nbconvert_exporter": "python",
   "pygments_lexer": "ipython3",
   "version": "3.6.8"
  },
  "toc": {
   "base_numbering": 1,
   "nav_menu": {},
   "number_sections": true,
   "sideBar": true,
   "skip_h1_title": false,
   "title_cell": "Table of Contents",
   "title_sidebar": "Contents",
   "toc_cell": false,
   "toc_position": {},
   "toc_section_display": true,
   "toc_window_display": false
  }
 },
 "nbformat": 4,
 "nbformat_minor": 2
}
